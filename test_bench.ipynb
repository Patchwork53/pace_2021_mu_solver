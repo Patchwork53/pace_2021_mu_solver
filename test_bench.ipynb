{
 "cells": [
  {
   "cell_type": "code",
   "execution_count": 1,
   "metadata": {},
   "outputs": [
    {
     "name": "stdout",
     "output_type": "stream",
     "text": [
      "1691288\n",
      "1691288\n"
     ]
    }
   ],
   "source": [
    "import os\n",
    "\n",
    "\n",
    "with open(\"solution.txt\", \"r\") as f:\n",
    "    data = f.readlines()\n",
    "    print(len(data))\n",
    "    print(len(set(data)))"
   ]
  },
  {
   "cell_type": "code",
   "execution_count": 14,
   "metadata": {},
   "outputs": [],
   "source": [
    "# heur100\n",
    "# vanilla_clique_processing removed + chen_processing: 17013\n",
    "# vanilla_clique_processing: 17013\n",
    "# neither: 17013\n",
    "# no kernalization at all:\n",
    "# only chen_processing:\n",
    "\n",
    "\n",
    "# heur200.gr\n",
    "# vanilla kernelization:                        1689648\n",
    "# vanilla_clique_processing + chen_rules:       1691288\n",
    "\n",
    "# vanilla kernelization - clique_forming: 1689623\n",
    "# no kernalization at all: 1695287\n"
   ]
  },
  {
   "cell_type": "code",
   "execution_count": 5,
   "metadata": {},
   "outputs": [
    {
     "data": {
      "text/plain": [
       "Index(['file', 'original instance', 'n', 'm', 'm_by_n'], dtype='object')"
      ]
     },
     "execution_count": 5,
     "metadata": {},
     "output_type": "execute_result"
    }
   ],
   "source": [
    "import pandas as pd\n",
    "\n",
    "df = pd.read_csv(\"pace-heur.csv\")\n",
    "\n",
    "#add new column df[n_by_m]=df[n]/df[m]\n",
    "\n",
    "df.columns"
   ]
  },
  {
   "cell_type": "code",
   "execution_count": 12,
   "metadata": {},
   "outputs": [
    {
     "name": "stdout",
     "output_type": "stream",
     "text": [
      "heur010.gr 250 4507\n",
      "heur020.gr 320 5905\n",
      "heur030.gr 330 5613\n",
      "heur040.gr 361 19491\n",
      "heur050.gr 400 31201\n",
      "heur060.gr 491 34165\n",
      "heur070.gr 551 15661\n",
      "heur080.gr 620 190499\n",
      "heur090.gr 926 19078\n",
      "heur100.gr 1190 63141\n",
      "heur110.gr 1345 87122\n",
      "heur120.gr 2054 97971\n",
      "heur130.gr 2831 1896516\n",
      "heur140.gr 2912 4116940\n",
      "heur150.gr 2939 60978\n",
      "heur160.gr 2939 4131289\n",
      "heur170.gr 8114 26013\n",
      "heur180.gr 75879 405740\n",
      "heur190.gr 281903 1992636\n",
      "heur200.gr 1965206 2766607\n"
     ]
    }
   ],
   "source": [
    "\n",
    "for i, row in df.iterrows():\n",
    "    if ((i+1)%10)== 0:\n",
    "        print(row[\"file\"],row[\"n\"], row[\"m\"])   "
   ]
  }
 ],
 "metadata": {
  "kernelspec": {
   "display_name": "Python 3",
   "language": "python",
   "name": "python3"
  },
  "language_info": {
   "codemirror_mode": {
    "name": "ipython",
    "version": 3
   },
   "file_extension": ".py",
   "mimetype": "text/x-python",
   "name": "python",
   "nbconvert_exporter": "python",
   "pygments_lexer": "ipython3",
   "version": "3.10.12"
  }
 },
 "nbformat": 4,
 "nbformat_minor": 2
}
